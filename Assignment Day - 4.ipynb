{
 "cells": [
  {
   "cell_type": "code",
   "execution_count": null,
   "metadata": {},
   "outputs": [],
   "source": [
    "# Print the first armstrong number in the range of 1042000 to 702648265 and exit the loop as soon as you encounter the first armstrong Number use while loop"
   ]
  },
  {
   "cell_type": "code",
   "execution_count": 1,
   "metadata": {},
   "outputs": [
    {
     "name": "stdout",
     "output_type": "stream",
     "text": [
      "The first armstrong number is: 548834\n"
     ]
    }
   ],
   "source": [
    "lower=104200\n",
    "upper=702648265\n",
    "for num in range(lower,upper):\n",
    "    order= len (str(num))\n",
    "    sum = 0\n",
    "    tmp = num\n",
    "    while tmp > 0:\n",
    "        digit = tmp % 10\n",
    "        sum += digit ** order\n",
    "        tmp //= 10\n",
    "        \n",
    "    if num ==sum:\n",
    "        print(\"The first armstrong number is:\", num)\n",
    "        break"
   ]
  }
 ],
 "metadata": {
  "kernelspec": {
   "display_name": "Python 3",
   "language": "python",
   "name": "python3"
  },
  "language_info": {
   "codemirror_mode": {
    "name": "ipython",
    "version": 3
   },
   "file_extension": ".py",
   "mimetype": "text/x-python",
   "name": "python",
   "nbconvert_exporter": "python",
   "pygments_lexer": "ipython3",
   "version": "3.7.7"
  }
 },
 "nbformat": 4,
 "nbformat_minor": 4
}
